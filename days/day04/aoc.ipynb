{
 "cells": [
  {
   "cell_type": "markdown",
   "source": [
    "--- Day 4: Ceres Search ---\n",
    "\n",
    "\"Looks like the Chief's not here. Next!\" One of The Historians pulls out a device and pushes the only button on it. After a brief flash, you recognize the interior of the Ceres monitoring station!\n",
    "\n",
    "As the search for the Chief continues, a small Elf who lives on the station tugs on your shirt; she'd like to know if you could help her with her word search (your puzzle input). She only has to find one word: XMAS.\n",
    "\n",
    "This word search allows words to be horizontal, vertical, diagonal, written backwards, or even overlapping other words. It's a little unusual, though, as you don't merely need to find one instance of XMAS - you need to find all of them. Here are a few ways XMAS might appear, where irrelevant characters have been replaced with .:\n",
    "\n",
    "..X...\n",
    ".SAMX.\n",
    ".A..A.\n",
    "XMAS.S\n",
    ".X....\n",
    "\n",
    "The actual word search will be full of letters instead. For example:\n",
    "\n",
    "MMMSXXMASM\n",
    "MSAMXMSMSA\n",
    "AMXSXMAAMM\n",
    "MSAMASMSMX\n",
    "XMASAMXAMM\n",
    "XXAMMXXAMA\n",
    "SMSMSASXSS\n",
    "SAXAMASAAA\n",
    "MAMMMXMMMM\n",
    "MXMXAXMASX\n",
    "\n",
    "In this word search, XMAS occurs a total of 18 times; here's the same word search again, but where letters not involved in any XMAS have been replaced with .:\n",
    "\n",
    "....XXMAS.\n",
    ".SAMXMS...\n",
    "...S..A...\n",
    "..A.A.MS.X\n",
    "XMASAMX.MM\n",
    "X.....XA.A\n",
    "S.S.S.S.SS\n",
    ".A.A.A.A.A\n",
    "..M.M.M.MM\n",
    ".X.X.XMASX\n",
    "\n",
    "Take a look at the little Elf's word search. How many times does XMAS appear?\n"
   ],
   "metadata": {
    "collapsed": false
   },
   "id": "ca3f9027d6a20548"
  },
  {
   "cell_type": "code",
   "outputs": [],
   "source": [
    "import numpy as np\n",
    "from scipy.signal import convolve2d\n",
    "import matplotlib.pyplot as plt"
   ],
   "metadata": {
    "collapsed": false,
    "ExecuteTime": {
     "end_time": "2024-12-04T13:38:06.640877Z",
     "start_time": "2024-12-04T13:38:06.637680Z"
    }
   },
   "id": "ee95d3bb103b5ea1",
   "execution_count": 64
  },
  {
   "cell_type": "code",
   "outputs": [],
   "source": [
    "def read_grid_from_file(filename):\n",
    "    with open(filename, 'r') as f:\n",
    "        lines = [line.strip() for line in f if line.strip()]\n",
    "    # Convert lines to a 2D array of chars\n",
    "    grid = np.array([list(line) for line in lines], dtype='<U1')\n",
    "    return grid"
   ],
   "metadata": {
    "collapsed": false,
    "ExecuteTime": {
     "end_time": "2024-12-04T13:50:14.049656Z",
     "start_time": "2024-12-04T13:50:14.044483Z"
    }
   },
   "id": "c5f9aadee0b575bf",
   "execution_count": 81
  },
  {
   "cell_type": "code",
   "outputs": [
    {
     "data": {
      "text/plain": "array([['M', 'M', 'M', 'S', 'X', 'X', 'M', 'A', 'S', 'M'],\n       ['M', 'S', 'A', 'M', 'X', 'M', 'S', 'M', 'S', 'A'],\n       ['A', 'M', 'X', 'S', 'X', 'M', 'A', 'A', 'M', 'M'],\n       ['M', 'S', 'A', 'M', 'A', 'S', 'M', 'S', 'M', 'X'],\n       ['X', 'M', 'A', 'S', 'A', 'M', 'X', 'A', 'M', 'M'],\n       ['X', 'X', 'A', 'M', 'M', 'X', 'X', 'A', 'M', 'A'],\n       ['S', 'M', 'S', 'M', 'S', 'A', 'S', 'X', 'S', 'S'],\n       ['S', 'A', 'X', 'A', 'M', 'A', 'S', 'A', 'A', 'A'],\n       ['M', 'A', 'M', 'M', 'M', 'X', 'M', 'M', 'M', 'M'],\n       ['M', 'X', 'M', 'X', 'A', 'X', 'M', 'A', 'S', 'X']], dtype='<U1')"
     },
     "execution_count": 80,
     "metadata": {},
     "output_type": "execute_result"
    }
   ],
   "source": [
    "read_grid_from_file('test.txt')"
   ],
   "metadata": {
    "collapsed": false,
    "ExecuteTime": {
     "end_time": "2024-12-04T13:50:12.882527Z",
     "start_time": "2024-12-04T13:50:12.877260Z"
    }
   },
   "id": "b1e1fe6f4f1c8371",
   "execution_count": 80
  },
  {
   "cell_type": "code",
   "outputs": [
    {
     "name": "stdout",
     "output_type": "stream",
     "text": [
      "[['M' 'M' 'M' 'S' 'X' 'X' 'M' 'A' 'S' 'M']\n",
      " ['M' 'S' 'A' 'M' 'X' 'M' 'S' 'M' 'S' 'A']\n",
      " ['A' 'M' 'X' 'S' 'X' 'M' 'A' 'A' 'M' 'M']\n",
      " ['M' 'S' 'A' 'M' 'A' 'S' 'M' 'S' 'M' 'X']\n",
      " ['X' 'M' 'A' 'S' 'A' 'M' 'X' 'A' 'M' 'M']\n",
      " ['X' 'X' 'A' 'M' 'M' 'X' 'X' 'A' 'M' 'A']\n",
      " ['S' 'M' 'S' 'M' 'S' 'A' 'S' 'X' 'S' 'S']\n",
      " ['S' 'A' 'X' 'A' 'M' 'A' 'S' 'A' 'A' 'A']\n",
      " ['M' 'A' 'M' 'M' 'M' 'X' 'M' 'M' 'M' 'M']\n",
      " ['M' 'X' 'M' 'X' 'A' 'X' 'M' 'A' 'S' 'X']]\n",
      "(10, 10)\n"
     ]
    }
   ],
   "source": [
    "print(grid)\n",
    "print(grid.shape)  # Should be (10, 10)\n"
   ],
   "metadata": {
    "collapsed": false,
    "ExecuteTime": {
     "end_time": "2024-12-04T13:51:49.142574Z",
     "start_time": "2024-12-04T13:51:49.137819Z"
    }
   },
   "id": "129dda490631841a",
   "execution_count": 88
  },
  {
   "cell_type": "code",
   "outputs": [],
   "source": [
    "def find_word(grid, word=\"XMAS\"):\n",
    "    # Map each letter in \"XMAS\" to a numeric value\n",
    "    # X=1, M=2, A=3, S=4 for consistency\n",
    "    char_to_num = {'X':1, 'M':2, 'A':3, 'S':4}\n",
    "    word_len = len(word)\n",
    "    target_sum = sum(range(1, word_len+1))  # 1+2+3+4=10\n",
    "\n",
    "    # Convert the character grid to a numeric grid\n",
    "    binary_grid = np.zeros(grid.shape, dtype=int)\n",
    "    for c, val in char_to_num.items():\n",
    "        binary_grid[grid == c] = val\n",
    "\n",
    "    # Forward kernels\n",
    "    # Horizontal forward: X M A S\n",
    "    kernel_h = np.array([char_to_num[c] for c in word]).reshape(1, -1)\n",
    "    # Vertical forward: transpose of horizontal\n",
    "    kernel_v = kernel_h.T\n",
    "    # Diagonal forward\n",
    "    kernel_d = np.zeros((word_len, word_len), dtype=int)\n",
    "    for i, c in enumerate(word):\n",
    "        kernel_d[i, i] = char_to_num[c]\n",
    "    # Anti-diagonal forward\n",
    "    kernel_ad = np.fliplr(kernel_d)\n",
    "\n",
    "    # Reversed kernels (for \"SAMX\"), created by flipping the forward kernels\n",
    "    # Horizontal reversed\n",
    "    kernel_h_rev = kernel_h[:, ::-1]\n",
    "    # Vertical reversed\n",
    "    kernel_v_rev = kernel_v[::-1, :]\n",
    "    # Diagonal reversed: create from reversed word order\n",
    "    reversed_word = word[::-1]  # \"SAMX\"\n",
    "    kernel_d_rev = np.zeros((word_len, word_len), dtype=int)\n",
    "    for i, c in enumerate(reversed_word):\n",
    "        kernel_d_rev[i, i] = char_to_num[c]\n",
    "    kernel_ad_rev = np.fliplr(kernel_d_rev)\n",
    "\n",
    "    # Helper function to count matches for a given kernel\n",
    "    def count_matches(kernel):\n",
    "        conv_res = convolve2d(binary_grid, kernel, mode='valid')\n",
    "        return np.count_nonzero(conv_res == target_sum)\n",
    "\n",
    "    # Count occurrences in all 8 directions\n",
    "    matches = 0\n",
    "    matches += count_matches(kernel_h)      # horizontal forward\n",
    "    matches += count_matches(kernel_h_rev)  # horizontal backward\n",
    "    matches += count_matches(kernel_v)      # vertical down\n",
    "    matches += count_matches(kernel_v_rev)  # vertical up\n",
    "    matches += count_matches(kernel_d)      # diagonal (top-left to bottom-right)\n",
    "    matches += count_matches(kernel_d_rev)  # diagonal reversed\n",
    "    matches += count_matches(kernel_ad)     # anti-diagonal\n",
    "    matches += count_matches(kernel_ad_rev) # anti-diagonal reversed\n",
    "\n",
    "    return matches"
   ],
   "metadata": {
    "collapsed": false,
    "ExecuteTime": {
     "end_time": "2024-12-04T13:59:38.872712Z",
     "start_time": "2024-12-04T13:59:38.866710Z"
    }
   },
   "id": "8f72f65fb00b601d",
   "execution_count": 94
  },
  {
   "cell_type": "code",
   "outputs": [],
   "source": [
    "def visualize_matches(grid, match_grid):\n",
    "    \"\"\"\n",
    "    Visualizes the matches on the grid using matplotlib.\n",
    "    \n",
    "    Parameters:\n",
    "        grid (np.ndarray): The original grid of characters.\n",
    "        match_grid (np.ndarray): The grid highlighting matches.\n",
    "    \"\"\"\n",
    "    fig, ax = plt.subplots(figsize=(8, 8))\n",
    "\n",
    "    # Display the original grid\n",
    "    ax.imshow(match_grid, cmap=\"cool\", alpha=0.7)\n",
    "    for i in range(grid.shape[0]):\n",
    "        for j in range(grid.shape[1]):\n",
    "            color = \"red\" if match_grid[i, j] else \"black\"\n",
    "            ax.text(j, i, grid[i, j], ha=\"center\", va=\"center\", color=color, fontsize=10)\n",
    "\n",
    "    ax.set_xticks([])\n",
    "    ax.set_yticks([])\n",
    "    plt.title(\"XMAS Matches Visualization\", fontsize=14)\n",
    "    plt.show()\n"
   ],
   "metadata": {
    "collapsed": false,
    "ExecuteTime": {
     "end_time": "2024-12-04T13:52:33.512412Z",
     "start_time": "2024-12-04T13:52:33.504554Z"
    }
   },
   "id": "57175cef806b238b",
   "execution_count": 90
  },
  {
   "cell_type": "code",
   "outputs": [
    {
     "name": "stdout",
     "output_type": "stream",
     "text": [
      "Total occurrences of 'XMAS': 0\n"
     ]
    }
   ],
   "source": [
    "# Assume the word search is saved in 'wordsearch.txt'\n",
    "grid = read_grid_from_file('test.txt')\n",
    "total_occurrences = find_word(grid, \"XMAS\")\n",
    "print(\"Total occurrences of 'XMAS':\", total_occurrences)"
   ],
   "metadata": {
    "collapsed": false,
    "ExecuteTime": {
     "end_time": "2024-12-04T13:59:42.435320Z",
     "start_time": "2024-12-04T13:59:42.431958Z"
    }
   },
   "id": "b73f0f108f209858",
   "execution_count": 96
  },
  {
   "cell_type": "code",
   "outputs": [
    {
     "data": {
      "text/plain": "<Figure size 800x800 with 1 Axes>",
      "image/png": "[encoded data removed]"
     },
     "metadata": {},
     "output_type": "display_data"
    }
   ],
   "source": [
    "# Visualize the matches\n",
    "match_grid = np.zeros(grid.shape, dtype=int)\n",
    "find_word(grid, \"XMAS\")\n",
    "visualize_matches(grid, match_grid)"
   ],
   "metadata": {
    "collapsed": false,
    "ExecuteTime": {
     "end_time": "2024-12-04T13:59:43.997733Z",
     "start_time": "2024-12-04T13:59:43.839730Z"
    }
   },
   "id": "47f16b23200c64ee",
   "execution_count": 97
  },
  {
   "cell_type": "code",
   "outputs": [
    {
     "name": "stdout",
     "output_type": "stream",
     "text": [
      "Total occurrences of 'XMAS': 2685.0\n"
     ]
    }
   ],
   "source": [
    "import numpy as np\n",
    "\n",
    "def read_grid_from_file(filename):\n",
    "    with open(filename, 'r') as f:\n",
    "        lines = [line.strip() for line in f if line.strip()]\n",
    "    grid = np.array([list(line) for line in lines], dtype='<U1')\n",
    "    return grid\n",
    "\n",
    "def in_bounds(x, y, rows, cols):\n",
    "    return 0 <= x < rows and 0 <= y < cols\n",
    "\n",
    "def find_all_occurrences(grid, word=\"XMAS\"):\n",
    "    rows, cols = grid.shape\n",
    "    word_len = len(word)\n",
    "\n",
    "    # We also consider the reversed version of the word\n",
    "    rev_word = word[::-1]\n",
    "\n",
    "    # Define all 8 directions: (dx, dy)\n",
    "    directions = [\n",
    "        (0, 1),   # horizontal left-to-right\n",
    "        (0, -1),  # horizontal right-to-left\n",
    "        (1, 0),   # vertical top-to-bottom\n",
    "        (-1, 0),  # vertical bottom-to-top\n",
    "        (1, 1),   # diagonal top-left to bottom-right\n",
    "        (-1, -1), # diagonal bottom-right to top-left\n",
    "        (1, -1),  # diagonal top-right to bottom-left\n",
    "        (-1, 1)   # diagonal bottom-left to top-right\n",
    "    ]\n",
    "\n",
    "    count = 0\n",
    "    for x in range(rows):\n",
    "        for y in range(cols):\n",
    "            # If the current cell matches the first letter of `word` or `rev_word`,\n",
    "            # then try in each direction.\n",
    "            current_char = grid[x, y]\n",
    "\n",
    "            # If current char isn't the start of \"XMAS\" or \"SAMX\", skip\n",
    "            if current_char not in (word[0], rev_word[0]):\n",
    "                continue\n",
    "\n",
    "            for dx, dy in directions:\n",
    "                # Check forward word\n",
    "                # Collect characters in this direction\n",
    "                forward_chars = []\n",
    "                for i in range(word_len):\n",
    "                    nx, ny = x + i*dx, y + i*dy\n",
    "                    if in_bounds(nx, ny, rows, cols):\n",
    "                        forward_chars.append(grid[nx, ny])\n",
    "                    else:\n",
    "                        break\n",
    "                if ''.join(forward_chars) == word:\n",
    "                    count += 1\n",
    "                elif ''.join(forward_chars) == rev_word:\n",
    "                    count += 1\n",
    "\n",
    "    return count\n",
    "\n",
    "if __name__ == \"__main__\":\n",
    "    grid = read_grid_from_file(\"in.txt\")\n",
    "    total = find_all_occurrences(grid, \"XMAS\")\n",
    "    print(\"Total occurrences of 'XMAS':\", total / 2)\n",
    "    "
   ],
   "metadata": {
    "collapsed": false,
    "ExecuteTime": {
     "end_time": "2024-12-04T14:37:18.087834Z",
     "start_time": "2024-12-04T14:37:17.937128Z"
    }
   },
   "id": "cf08c24bf5db4aba",
   "execution_count": 102
  },
  {
   "cell_type": "code",
   "outputs": [
    {
     "name": "stdout",
     "output_type": "stream",
     "text": [
      "Total occurrences of X-MAS: 2048\n"
     ]
    }
   ],
   "source": [
    "import numpy as np\n",
    "\n",
    "def read_grid_from_file(filename):\n",
    "    with open(filename, 'r') as f:\n",
    "        lines = [line.strip() for line in f if line.strip()]\n",
    "    grid = np.array([list(line) for line in lines], dtype='<U1')\n",
    "    return grid\n",
    "\n",
    "def in_bounds(x, y, rows, cols):\n",
    "    return 0 <= x < rows and 0 <= y < cols\n",
    "\n",
    "def is_mas_or_sam(a, b, c):\n",
    "    # Check if sequence [a, b, c] is either MAS or SAM\n",
    "    return (a == 'M' and b == 'A' and c == 'S') or (a == 'S' and b == 'A' and c == 'M')\n",
    "\n",
    "def count_xmas(grid):\n",
    "    rows, cols = grid.shape\n",
    "    count = 0\n",
    "\n",
    "    # For each cell, consider it as the center of X-MAS if it's 'A'\n",
    "    for x in range(rows):\n",
    "        for y in range(cols):\n",
    "            if grid[x, y] != 'A':\n",
    "                continue\n",
    "\n",
    "            # Coordinates for diagonals:\n",
    "            # Main diagonal: (x-1,y-1), (x,y), (x+1,y+1)\n",
    "            # Anti-diagonal: (x-1,y+1), (x,y), (x+1,y-1)\n",
    "\n",
    "            # Check bounds for main diagonal\n",
    "            if (in_bounds(x-1, y-1, rows, cols) and in_bounds(x+1, y+1, rows, cols)):\n",
    "                main_diag = [grid[x-1, y-1], grid[x, y], grid[x+1, y+1]]\n",
    "            else:\n",
    "                main_diag = None\n",
    "\n",
    "            # Check bounds for anti-diagonal\n",
    "            if (in_bounds(x-1, y+1, rows, cols) and in_bounds(x+1, y-1, rows, cols)):\n",
    "                anti_diag = [grid[x-1, y+1], grid[x, y], grid[x+1, y-1]]\n",
    "            else:\n",
    "                anti_diag = None\n",
    "\n",
    "            # Both diagonals must be valid and form MAS/SAM\n",
    "            if main_diag and anti_diag:\n",
    "                if is_mas_or_sam(*main_diag) and is_mas_or_sam(*anti_diag):\n",
    "                    count += 1\n",
    "\n",
    "    return count\n",
    "\n",
    "if __name__ == \"__main__\":\n",
    "    grid = read_grid_from_file(\"in.txt\")\n",
    "    total_xmas = count_xmas(grid)\n",
    "    print(\"Total occurrences of X-MAS:\", total_xmas)\n"
   ],
   "metadata": {
    "collapsed": false,
    "ExecuteTime": {
     "end_time": "2024-12-04T14:39:56.571378Z",
     "start_time": "2024-12-04T14:39:56.512149Z"
    }
   },
   "id": "e8dba16853ce4b3",
   "execution_count": 104
  }
 ],
 "metadata": {
  "kernelspec": {
   "display_name": "Python 3",
   "language": "python",
   "name": "python3"
  },
  "language_info": {
   "codemirror_mode": {
    "name": "ipython",
    "version": 2
   },
   "file_extension": ".py",
   "mimetype": "text/x-python",
   "name": "python",
   "nbconvert_exporter": "python",
   "pygments_lexer": "ipython2",
   "version": "2.7.6"
  }
 },
 "nbformat": 4,
 "nbformat_minor": 5
}
